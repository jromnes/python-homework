{
 "cells": [
  {
   "cell_type": "code",
   "execution_count": 3,
   "id": "d0cc35a7-0434-4260-be25-98a5033c7f2b",
   "metadata": {
    "tags": []
   },
   "outputs": [],
   "source": [
    "# Imports\n",
    "import csv\n",
    "import os\n",
    "from pathlib import Path"
   ]
  },
  {
   "cell_type": "code",
   "execution_count": 4,
   "id": "bd8cb8c4-534b-447e-b813-9b0a44bc70dd",
   "metadata": {},
   "outputs": [],
   "source": [
    "\n",
    "csvpath = Path(\"budget_data.csv\")"
   ]
  },
  {
   "cell_type": "code",
   "execution_count": 5,
   "id": "4412aaf8-9f1f-405e-aa90-73c251e21e59",
   "metadata": {},
   "outputs": [],
   "source": [
    "# Variables\n",
    "total_months = 0\n",
    "total_profit_losses = 0\n",
    "changes_in_profit_losses = []\n",
    "greatest_increase_date = \"\"\n",
    "greatest_increase_amount = 0\n",
    "greatest_decrease_date = \"\"\n",
    "greatest_decrease_amount = 0\n"
   ]
  },
  {
   "cell_type": "code",
   "execution_count": 6,
   "id": "b772af8c-24e7-4041-a15c-270dce6fba0e",
   "metadata": {
    "tags": []
   },
   "outputs": [],
   "source": [
    "# Read data from CSV file\n",
    "with open(csvpath) as csvfile:\n",
    "    csvreader = csv.reader(csvfile, delimiter=\",\")\n",
    "    header = next(csvreader, None)\n",
    "    previous_profit_loss = None\n",
    "    \n",
    "    for row in csvreader:\n",
    "        # Calculate total number of months\n",
    "        total_months += 1\n",
    "        # Calculate total Profit/Losses\n",
    "        total_profit_losses += int(row[1])\n",
    "        # Store Profit/Loss for later change calculation\n",
    "        profit_loss = int(row[1])\n",
    "        if previous_profit_loss is not None:\n",
    "            change_in_profit_loss = profit_loss - previous_profit_loss\n",
    "            changes_in_profit_losses.append(change_in_profit_loss)\n",
    "        # Check for the greatest increase in profits\n",
    "        if profit_loss > greatest_increase_amount:\n",
    "            greatest_increase_amount = profit_loss\n",
    "            greatest_increase_date = row[1]\n",
    "        # Check for the greatest decrease in losses\n",
    "        if profit_loss < greatest_decrease_amount:\n",
    "            greatest_decrease_amount = profit_loss\n",
    "            greatest_decrease_date = row[1]\n",
    "\n",
    "        previous_profit_loss = profit_loss\n",
    "# Calculate average change in Profit/Losses\n",
    "average_change = sum(changes_in_profit_losses) / (total_months - 1)\n"
   ]
  },
  {
   "cell_type": "code",
   "execution_count": 7,
   "id": "d926a7dd-8776-4a9b-80d5-55c334f46376",
   "metadata": {
    "tags": []
   },
   "outputs": [
    {
     "name": "stdout",
     "output_type": "stream",
     "text": [
      "Financial Analysis\n",
      "----------------------------\n",
      "Total Months: 86\n",
      "Total: $38382578\n",
      "Average Change: $-2315.12\n",
      "Greatest Increase in Profits: 1170593 ($1170593)\n",
      "Greatest Decrease in Profits: -1196225 ($-1196225)\n"
     ]
    }
   ],
   "source": [
    "# Print the financial analysis results\n",
    "print(\"Financial Analysis\")\n",
    "print(\"----------------------------\")\n",
    "print(f\"Total Months: {total_months}\")\n",
    "print(f\"Total: ${total_profit_losses}\")\n",
    "print(f\"Average Change: ${average_change:.2f}\")\n",
    "print(f\"Greatest Increase in Profits: {greatest_increase_date} (${greatest_increase_amount})\")\n",
    "print(f\"Greatest Decrease in Profits: {greatest_decrease_date} (${greatest_decrease_amount})\")\n"
   ]
  },
  {
   "cell_type": "code",
   "execution_count": 8,
   "id": "fa40c1d1-9d4a-4454-a14b-74e66547114b",
   "metadata": {
    "tags": []
   },
   "outputs": [
    {
     "name": "stdout",
     "output_type": "stream",
     "text": [
      "Results exported to financial_analysis_results.txt\n"
     ]
    }
   ],
   "source": [
    "# Export results to txt file\n",
    "output_file_path = 'financial_analysis_results.txt'\n",
    "with open(output_file_path, 'w') as output_file:\n",
    "    output_file.write(\"Financial Analysis\\n\")\n",
    "    output_file.write(\"----------------------------\\n\")\n",
    "    output_file.write(f\"Total Months: {total_months}\\n\")\n",
    "    output_file.write(f\"Total: ${total_profit_losses}\\n\")\n",
    "    output_file.write(f\"Average Change: ${average_change:.2f}\\n\")\n",
    "    output_file.write(f\"Greatest Increase in Profits: {greatest_increase_date} (${greatest_increase_amount})\\n\")\n",
    "    output_file.write(f\"Greatest Decrease in Profits: {greatest_decrease_date} (${greatest_decrease_amount})\\n\")\n",
    "\n",
    "print(f\"Results exported to {output_file_path}\")"
   ]
  },
  {
   "cell_type": "code",
   "execution_count": null,
   "id": "cb336a1b-d807-4c16-b168-048c155c744b",
   "metadata": {},
   "outputs": [],
   "source": []
  }
 ],
 "metadata": {
  "kernelspec": {
   "display_name": "Python 3 (ipykernel)",
   "language": "python",
   "name": "python3"
  },
  "language_info": {
   "codemirror_mode": {
    "name": "ipython",
    "version": 3
   },
   "file_extension": ".py",
   "mimetype": "text/x-python",
   "name": "python",
   "nbconvert_exporter": "python",
   "pygments_lexer": "ipython3",
   "version": "3.11.5"
  }
 },
 "nbformat": 4,
 "nbformat_minor": 5
}
