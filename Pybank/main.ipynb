{
 "cells": [
  {
   "cell_type": "code",
   "execution_count": 4,
   "id": "d0cc35a7-0434-4260-be25-98a5033c7f2b",
   "metadata": {
    "tags": []
   },
   "outputs": [
    {
     "data": {
      "text/plain": [
       "PosixPath('/Users/jordanromnes/Desktop/python-challenge/Pybank')"
      ]
     },
     "execution_count": 4,
     "metadata": {},
     "output_type": "execute_result"
    }
   ],
   "source": [
    "\n",
    "import csv\n",
    "import os\n",
    "from pathlib import Path\n",
    "\n",
    "Path.cwd()"
   ]
  },
  {
   "cell_type": "code",
   "execution_count": 5,
   "id": "bd8cb8c4-534b-447e-b813-9b0a44bc70dd",
   "metadata": {},
   "outputs": [
    {
     "ename": "ZeroDivisionError",
     "evalue": "division by zero",
     "output_type": "error",
     "traceback": [
      "\u001b[0;31m---------------------------------------------------------------------------\u001b[0m",
      "\u001b[0;31mZeroDivisionError\u001b[0m                         Traceback (most recent call last)",
      "Cell \u001b[0;32mIn[5], line 31\u001b[0m\n\u001b[1;32m     29\u001b[0m             greatest_decrease_amount \u001b[38;5;241m=\u001b[39m \u001b[38;5;28mint\u001b[39m(row[\u001b[38;5;241m1\u001b[39m])\n\u001b[1;32m     30\u001b[0m             greatest_decrease_date \u001b[38;5;241m=\u001b[39m row[\u001b[38;5;241m0\u001b[39m]\n\u001b[0;32m---> 31\u001b[0m         average_change \u001b[38;5;241m=\u001b[39m \u001b[38;5;28msum\u001b[39m(changes_in_profit_losses) \u001b[38;5;241m/\u001b[39m (total_months \u001b[38;5;241m-\u001b[39m \u001b[38;5;241m1\u001b[39m)\n\u001b[1;32m     34\u001b[0m \u001b[38;5;28mprint\u001b[39m(\u001b[38;5;124m\"\u001b[39m\u001b[38;5;124mFinancial Analysis\u001b[39m\u001b[38;5;124m\"\u001b[39m)\n\u001b[1;32m     35\u001b[0m \u001b[38;5;28mprint\u001b[39m(\u001b[38;5;124m\"\u001b[39m\u001b[38;5;124m----------------------------\u001b[39m\u001b[38;5;124m\"\u001b[39m)\n",
      "\u001b[0;31mZeroDivisionError\u001b[0m: division by zero"
     ]
    }
   ],
   "source": [
    "\n",
    "\n",
    "csvpath = os.path.join(\"/Users/jordanromnes/Desktop/python-challenge/Pybank/budget_data.csv\")\n",
    "\n",
    "\n",
    "\n",
    "total_months = 0\n",
    "total_profit_losses = 0\n",
    "changes_in_profit_losses = []\n",
    "greatest_increase_date = \"\"\n",
    "greatest_increase_amount = 0\n",
    "greatest_decrease_date = \"\"\n",
    "greatest_decrease_amount = 0\n",
    "\n",
    "\n",
    "with open(csvpath) as csvfile:\n",
    "    csvreader = csv.reader(csvfile, delimiter=\",\")\n",
    "    header = next(csvreader, None)\n",
    "    previous_profit_loss = 0\n",
    "    \n",
    "    for row in csvreader:\n",
    "        total_months += 1\n",
    "        total_profit_losses += int(row[\"Profit/Losses\"])\n",
    "        profit_loss = int(row[\"Profit/Losses\"])\n",
    "\n",
    "        change_in_profit_loss = profit_loss - previous_profit_loss\n",
    "        changes_in_profit_losses.append(change_in_profit_loss)\n",
    "        if int(row[1]) > greatest_increase_amount:\n",
    "            greatest_increase_amount = int(row[1])\n",
    "            greatest_increase_date = row[0]\n",
    "        if int(row[1]) < greatest_decrease_amount:\n",
    "            greatest_decrease_amount = int(row[1])\n",
    "            greatest_decrease_date = row[0]\n",
    "        average_change = sum(changes_in_profit_losses) / (total_months - 1)\n",
    "\n",
    "\n",
    "print(\"Financial Analysis\")\n",
    "print(\"----------------------------\")\n",
    "print(f\"Total Months: {total_months}\")\n",
    "print(f\"Total: ${total_profit_losses}\")\n",
    "print(f\"Average Change: ${average_change:.2f}\")\n",
    "print(f\"Greatest Increase in Profits: {greatest_increase_date} (${greatest_increase_amount})\")\n",
    "print(f\"Greatest Decrease in Profits: {greatest_decrease_date} (${greatest_decrease_amount})\")\n",
    "\n",
    "output_file_path = 'financial_analysis_results.txt'\n",
    "with open(output_file_path, 'w') as output_file:\n",
    "    output_file.write(\"Financial Analysis\\n\")\n",
    "    output_file.write(\"----------------------------\\n\")\n",
    "    output_file.write(f\"Total Months: {total_months}\\n\")\n",
    "    output_file.write(f\"Total: ${total_profit_losses}\\n\")\n",
    "    output_file.write(f\"Average Change: ${average_change:.2f}\\n\")\n",
    "    output_file.write(f\"Greatest Increase in Profits: {greatest_increase_date} (${greatest_increase_amount})\\n\")\n",
    "    output_file.write(f\"Greatest Decrease in Profits: {greatest_decrease_date} (${greatest_decrease_amount})\\n\")\n",
    "\n",
    "print(f\"Results exported to {output_file_path}\")"
   ]
  },
  {
   "cell_type": "code",
   "execution_count": null,
   "id": "4412aaf8-9f1f-405e-aa90-73c251e21e59",
   "metadata": {},
   "outputs": [],
   "source": []
  }
 ],
 "metadata": {
  "kernelspec": {
   "display_name": "Python 3 (ipykernel)",
   "language": "python",
   "name": "python3"
  },
  "language_info": {
   "codemirror_mode": {
    "name": "ipython",
    "version": 3
   },
   "file_extension": ".py",
   "mimetype": "text/x-python",
   "name": "python",
   "nbconvert_exporter": "python",
   "pygments_lexer": "ipython3",
   "version": "3.11.5"
  }
 },
 "nbformat": 4,
 "nbformat_minor": 5
}
